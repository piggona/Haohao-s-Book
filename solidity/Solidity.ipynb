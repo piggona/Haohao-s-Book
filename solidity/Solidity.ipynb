{
 "cells": [
  {
   "cell_type": "markdown",
   "metadata": {},
   "source": [
    "# Solidity测试环境的安装配置"
   ]
  },
  {
   "cell_type": "markdown",
   "metadata": {},
   "source": [
    "## 1. Atoms中的环境配置\n",
    "### a) Atoms下载与安装\n",
    "解压压缩包，将Atoms放入application\n",
    "### b) 安装nodejs环境\n",
    "正常安装即可\n",
    "### c) 安装testrpc"
   ]
  },
  {
   "cell_type": "code",
   "execution_count": null,
   "metadata": {},
   "outputs": [],
   "source": [
    "$ > npm install -g ethereumjs-testrpc truffle"
   ]
  },
  {
   "cell_type": "markdown",
   "metadata": {},
   "source": [
    "执行testrpc命令即可建立拥有是个地址的虚拟测试链环境\n",
    "### d) truffle框架的部署与标准化配置\n",
    "#### i. 基本命令"
   ]
  },
  {
   "cell_type": "code",
   "execution_count": null,
   "metadata": {},
   "outputs": [],
   "source": [
    "$> truffle init # 初始化truffle工程\n",
    "$> truffle create contract HelloWorld # 建立一个新的智能合约sol文件\n",
    "$> truffle compile # 编译sol文件 \n",
    "$> truffle migrate #部署智能合约"
   ]
  },
  {
   "cell_type": "markdown",
   "metadata": {},
   "source": [
    "#### ii. 框架文件结构\n",
    "    主文件夹/ ____\n",
    "\n",
    "        contracts/ ____ \n",
    "        #存放sol文件，也就是智能合约原始代码的文件夹\n",
    "    \n",
    "        build/contracts/ ____\n",
    "        #存放compile之后的合约\n",
    "    \n",
    "        migrations/ ____ \n",
    "        #部署智能合约\n",
    "    \n",
    "        test/ ____ \n",
    "        # 测试智能合约的代码，js&sol测试\n",
    "    \n",
    "        truffle.js \n",
    "        # Truffle的基本配置设置"
   ]
  },
  {
   "cell_type": "markdown",
   "metadata": {},
   "source": [
    "### e) truffle+testrpc环境调试流程\n",
    "#### i. truffle工程的建立"
   ]
  },
  {
   "cell_type": "code",
   "execution_count": null,
   "metadata": {},
   "outputs": [],
   "source": [
    "$> truffle init\n",
    "$> truffle create contract HelloWorld"
   ]
  },
  {
   "cell_type": "markdown",
   "metadata": {},
   "source": [
    "#### ii. 智能合约的编写"
   ]
  },
  {
   "cell_type": "code",
   "execution_count": null,
   "metadata": {},
   "outputs": [],
   "source": [
    "# contracts/HelloWorld.sol\n",
    "\n",
    "pragma solidity ^0.4.0;\n",
    "\n",
    "\n",
    "contract HelloWorld {\n",
    "  function sayHello() public pure returns (string) {\n",
    "    return (\"Hello World\");\n",
    "  }\n",
    "}"
   ]
  },
  {
   "cell_type": "markdown",
   "metadata": {},
   "source": [
    "编写完智能合约之后，要配置部署设置。"
   ]
  },
  {
   "cell_type": "code",
   "execution_count": null,
   "metadata": {},
   "outputs": [],
   "source": [
    "# migrations/ 2_deploy_contracts.js\n",
    "\n",
    "var HelloWorld = artifacts.require(\"HelloWorld\");  #先声明包含一个合约的变量\n",
    "\n",
    "module.exports = function(deployer) {\n",
    "    deployer.deploy(HelloWorld);\n",
    "};"
   ]
  },
  {
   "cell_type": "markdown",
   "metadata": {},
   "source": [
    "#### iii. 智能合约的编译与部署\n",
    "<em>其中要注意配置tuffle与testrpc的连接</em>"
   ]
  },
  {
   "cell_type": "markdown",
   "metadata": {},
   "source": [
    "主要指定testrpc的端口:8545"
   ]
  },
  {
   "cell_type": "code",
   "execution_count": null,
   "metadata": {},
   "outputs": [],
   "source": [
    "# truffle.js\n",
    "\n",
    "module.exports = {\n",
    "     networks: {\n",
    "         development: {\n",
    "             host: \"localhost\",\n",
    "             port: 8545,\n",
    "             network_id: \"*\" // 匹配任何network id\n",
    "          }\n",
    "     }\n",
    " };"
   ]
  },
  {
   "cell_type": "markdown",
   "metadata": {},
   "source": [
    "之后即可进行编译部署"
   ]
  },
  {
   "cell_type": "code",
   "execution_count": null,
   "metadata": {},
   "outputs": [],
   "source": [
    "$> truffle compile\n",
    "$> truffle migrate"
   ]
  },
  {
   "cell_type": "markdown",
   "metadata": {},
   "source": [
    "#### iv. 使用truffle console与合约互动\n",
    "<em>首先获得合约的Instance(实例)<em>"
   ]
  },
  {
   "cell_type": "code",
   "execution_count": null,
   "metadata": {},
   "outputs": [],
   "source": [
    "HelloWorld.deployed.then(instance => contract = instance)\n",
    "\n",
    "相当于ES5的\n",
    "HelloWorld.deployed.then(function(instance){\n",
    "    contract = instance;\n",
    "    });"
   ]
  },
  {
   "cell_type": "markdown",
   "metadata": {},
   "source": [
    "之后使用得到的实例进行互动"
   ]
  },
  {
   "cell_type": "code",
   "execution_count": null,
   "metadata": {},
   "outputs": [],
   "source": [
    "contract.sayHello()\n",
    "\n",
    "'Hello World'"
   ]
  },
  {
   "cell_type": "markdown",
   "metadata": {},
   "source": [
    "#### v. 加入新方法之后的重新编译运行\n",
    ".sol文件中的合约加入新方法之后，需要重新编译运行时，有两种方法："
   ]
  },
  {
   "cell_type": "markdown",
   "metadata": {},
   "source": [
    "  1.    "
   ]
  },
  {
   "cell_type": "code",
   "execution_count": null,
   "metadata": {},
   "outputs": [],
   "source": [
    "$> truffle compile\n",
    "$> truffle migrate --reset"
   ]
  },
  {
   "cell_type": "markdown",
   "metadata": {},
   "source": [
    "此时就相当于重新部署了链，会导致数据的丢失"
   ]
  },
  {
   "cell_type": "markdown",
   "metadata": {},
   "source": [
    "2. 如果想只更新链上的程序，则需要改写migrations中的脚本。 "
   ]
  },
  {
   "cell_type": "markdown",
   "metadata": {},
   "source": [
    "# 2. Solidity的继承与接口语法\n",
    "主要的关键字为:"
   ]
  },
  {
   "cell_type": "code",
   "execution_count": null,
   "metadata": {},
   "outputs": [],
   "source": [
    "is\n",
    "interface"
   ]
  },
  {
   "cell_type": "markdown",
   "metadata": {},
   "source": [
    "与JAVA非常类似，示例合约代码：\n",
    "\n",
    "**结构**\n",
    "\n",
    "可以参照JAVA设计模式的策略模式。但本例没有实现策略模式的结构。\n",
    "\n",
    "按照策略模式，一个接口可以由多个实现，如本例中的Bank is Regulator.\n",
    "\n",
    "在操作类中定义一个Regulator reg\n",
    "\n",
    "之后就可以reg= new Bank()//或者new为别的接口实现\n",
    "\n",
    "实现动态的改变实现类型"
   ]
  },
  {
   "cell_type": "code",
   "execution_count": null,
   "metadata": {},
   "outputs": [],
   "source": [
    "pragma solidity ^0.4.4;\n",
    "\n",
    "interface Regulator { //定义的接口\n",
    "  function checkValue(uint amount) external returns (bool);\n",
    "  function loan() external returns (bool);\n",
    "}\n",
    "\n",
    "contract Bank is Regulator  {\n",
    "  uint private value;\n",
    "  address private owner;\n",
    "\n",
    "  modifier ownerFunc() { //Access Modification\n",
    "    require(owner == msg.sender); // 设定合约执行的前提，\n",
    "    _;\n",
    "\n",
    "  }\n",
    "\n",
    "  constructor (uint amount) public {\n",
    "    value = amount;\n",
    "    owner = msg.sender;\n",
    "  }\n",
    "\n",
    "  function deposit(uint amount) public ownerFunc{\n",
    "    value += amount;\n",
    "  }\n",
    "\n",
    "  function withdraw(uint amount) public ownerFunc{\n",
    "    if (checkValue(amount)) {\n",
    "      value -= amount;\n",
    "    }\n",
    "\n",
    "  }\n",
    "\n",
    "  function balance() public view returns (uint) {\n",
    "    return value;\n",
    "  }\n",
    "\n",
    "  function checkValue(uint amount) public returns (bool) {\n",
    "    return value >= amount;\n",
    "  }\n",
    "\n",
    "  function loan() public view returns (bool) {\n",
    "    return value > 0;\n",
    "  }\n",
    "\n",
    "}\n",
    "\n",
    "contract MyFirstContract is Bank(10){\n",
    "\n",
    "  string private name;\n",
    "  uint private age;\n",
    "\n",
    "\n",
    "  function setName(string newName) public {\n",
    "    name = newName;\n",
    "  }\n",
    "\n",
    "  function getName() public view returns (string) {\n",
    "    return name;\n",
    "  }\n",
    "\n",
    "  function setAge(uint newAge) public {\n",
    "    age = newAge;\n",
    "  }\n",
    "\n",
    "  function getAge() public view returns (uint) {\n",
    "    return age;\n",
    "  }\n",
    "\n",
    "}"
   ]
  },
  {
   "cell_type": "markdown",
   "metadata": {},
   "source": [
    "# 3. Solidity的Access Modifier与异常处理\n",
    "目标：建立一个modifier:只允许合约的建立者添加或移除也可以说从我们建立的银行存款与取款。\n",
    "1. 建立一个私有的变量->owner\n",
    "address是以太坊中特有的地址，通过地址就可以识别消息的sender.\n",
    "接下来探究sender中有什么样的data(以太坊链中的重要信息,当消息发送者使用contract，contract就可以访问owner的信息）\n",
    "首先建立关于Bank的私有变量 ·"
   ]
  },
  {
   "cell_type": "code",
   "execution_count": null,
   "metadata": {},
   "outputs": [],
   "source": [
    "      address private owner；"
   ]
  },
  {
   "cell_type": "markdown",
   "metadata": {},
   "source": [
    "之后再构造函数constructor ()中建立一个address的实例"
   ]
  },
  {
   "cell_type": "code",
   "execution_count": null,
   "metadata": {},
   "outputs": [],
   "source": [
    "    owner = msg.sender;"
   ]
  },
  {
   "cell_type": "markdown",
   "metadata": {},
   "source": [
    "要使用这个owner变量，我们将建立一个modifier(即自定义一个修饰符），在里面定义一些错误处理(Error Handling)的算法"
   ]
  },
  {
   "cell_type": "code",
   "execution_count": null,
   "metadata": {},
   "outputs": [],
   "source": [
    "    modifier ownerFunc {\n",
    "        require(owner == msg.sender);\n",
    "        _; # \"_;\"符号表示剩下的程序执行\n",
    "      }"
   ]
  },
  {
   "cell_type": "markdown",
   "metadata": {},
   "source": [
    "定义这个修饰符表示：用这个自定义modifier修饰的函数将先执行 require(owner == msg.sender); 之后才会执行剩下的程序"
   ]
  },
  {
   "cell_type": "markdown",
   "metadata": {},
   "source": [
    "2. solidity的三种异常处理（检查条件）方式\n",
    "    - 不用throw关键字的原因：之后版本会移除。\n",
    "    - 当进行异常处理时要试图使用：require,revert或者assert\n",
    "    \n",
    "    a) **assert**：\n",
    "    \n",
    "    more of validating your <font color=#FF0033>input or functional input </font>at runtime\n",
    "    它发现错误之后会执行并消耗gas,一般使用assert去<font color=#FF0033>标明/处理合约内部的错误</font>，如用户输入了编码者没有想象到的输入域，用户进行了合约约束范围外的操作。\n",
    "    \n",
    "    <em>例子：要保证在消息释放的时候要<font color=#FF0033>消耗gas</font>,此时可以使用assert（通常用于测试内部错误）</em>\n",
    "    \n",
    "    b) <font color=#FF0033>**require（使用频繁）**</font>:\n",
    "    \n",
    "    more of a parameter requirements(对于变量的限制）\n",
    "    \n",
    "    合约编写者有意识的限制（编写者预料到的不允许的用户操作）\n",
    "    - 确认有效条件，例如输入，\n",
    "    - 确认合约声明变量是一致的\n",
    "    - 从调用到外部合约返回有效值\n",
    "    \n",
    "    c) **revert**:\n",
    "    \n",
    "    标记错误并回滚当前的调用\n",
    "    \n",
    "    "
   ]
  },
  {
   "cell_type": "code",
   "execution_count": null,
   "metadata": {},
   "outputs": [],
   "source": [
    "if (...) \n",
    "{\n",
    "    revert()\n",
    "} #如果。。。则回滚事务"
   ]
  },
  {
   "cell_type": "markdown",
   "metadata": {},
   "source": [
    "3. 使用modifier:直接在函数实现后面加上modifier的名字即可"
   ]
  },
  {
   "cell_type": "code",
   "execution_count": null,
   "metadata": {},
   "outputs": [],
   "source": [
    "function deposit(uint amount) public ownerFunc{\n",
    "    value += amount;\n",
    "  }"
   ]
  },
  {
   "cell_type": "markdown",
   "metadata": {},
   "source": [
    "    本例中加入ownerFunc就表明，只有持有msg.sender才可以使用deposit函数（通过执行require(owner == msg.sender))"
   ]
  },
  {
   "cell_type": "markdown",
   "metadata": {},
   "source": [
    "# 4. Solidity的Imports and Libraries\n",
    "\n",
    "## import功能\n",
    "solidity中可以使用import关键词来引用其它文件或网络文件的contract或function"
   ]
  },
  {
   "cell_type": "code",
   "execution_count": null,
   "metadata": {},
   "outputs": [],
   "source": [
    "import \"文件相对路径\"\n",
    "#之后即可引用文件中的元素"
   ]
  },
  {
   "cell_type": "markdown",
   "metadata": {},
   "source": [
    "## Library功能\n",
    "Library功能可以给变量添加可以调用的方法\n",
    "### 首先要定义Library:"
   ]
  },
  {
   "cell_type": "code",
   "execution_count": null,
   "metadata": {},
   "outputs": [],
   "source": [
    "# libraries.sol\n",
    "\n",
    "pragma solidity ^0.4.0;\n",
    "\n",
    "library IntExtended {\n",
    "  function increment(uint _self) public pure returns (uint) {\n",
    "    return _self+1;\n",
    "  }\n",
    "\n",
    "  function decrement(uint _self) public pure returns (uint) {\n",
    "    return _self-1;\n",
    "  }\n",
    "\n",
    "  function incrementByValue(uint _self,uint _value) public pure returns (uint){\n",
    "    return _self + _value;\n",
    "  }\n",
    "\n",
    "  function decrementByValue(uint _self,uint _value) public pure returns (uint) {\n",
    "    return _self + _value;\n",
    "  }\n",
    "}"
   ]
  },
  {
   "cell_type": "markdown",
   "metadata": {},
   "source": [
    "### 之后在contract中使用Library:"
   ]
  },
  {
   "cell_type": "code",
   "execution_count": null,
   "metadata": {},
   "outputs": [],
   "source": [
    "#testLibrary.sol\n",
    "\n",
    "pragma solidity ^0.4.0;\n",
    "\n",
    "import \"Libraries.sol\";\n",
    "\n",
    "contract TestLibrary {\n",
    "  constructor() public {\n",
    "\n",
    "  }\n",
    "  using IntExtended for uint; #为uint类型加上Library中定义的方法\n",
    "\n",
    "  function testIncrement(uint _base) public pure returns (uint) {\n",
    "    return _base.increment();\n",
    "  }\n",
    "\n",
    "  function testDecrement(uint _base) public pure returns (uint) {\n",
    "    return _base.decrement();\n",
    "  }\n",
    "\n",
    "}"
   ]
  },
  {
   "cell_type": "markdown",
   "metadata": {},
   "source": [
    "# 5. Solidity的事件监听与事务（Event logging and Transaction Information)\n",
    "目标：建立一个合约 ，用户可以直接向它请求一个事务而不是需要自己设定一个函数来执行业务逻辑\n",
    "\n",
    "## Fallback method\n",
    "<em>interact with this function without actually having to specify the function</em>\n",
    "\n",
    "如果在链上的人知道我们合约的地址，可以直接将以太币支付给我们的合约账户并执行这个function."
   ]
  },
  {
   "cell_type": "code",
   "execution_count": null,
   "metadata": {},
   "outputs": [],
   "source": [
    "function () payable {}"
   ]
  },
  {
   "cell_type": "markdown",
   "metadata": {},
   "source": [
    "    那怎样执行这个function?\n",
    "    需要使用事件监听的功能。"
   ]
  },
  {
   "cell_type": "markdown",
   "metadata": {},
   "source": [
    "## 事件监听Event Logging"
   ]
  },
  {
   "cell_type": "code",
   "execution_count": null,
   "metadata": {},
   "outputs": [],
   "source": [
    "# 定义一个event来对指定的类型进行监听\n",
    "\n",
    "event SenderLogger(address)\n",
    "event ValueLogger(uint)"
   ]
  },
  {
   "cell_type": "code",
   "execution_count": null,
   "metadata": {},
   "outputs": [],
   "source": [
    "# 在Fallback method中，注册实例化监听器\n",
    "\n",
    "function () public payable isOwner validValue{ #在其中也加入了限制传入消息的modifier\n",
    "    emit SenderLogger(msg.sender);\n",
    "    emit ValueLogger(msg.value);\n",
    "  }"
   ]
  },
  {
   "cell_type": "markdown",
   "metadata": {},
   "source": [
    "完整合约代码："
   ]
  },
  {
   "cell_type": "code",
   "execution_count": null,
   "metadata": {},
   "outputs": [],
   "source": [
    "pragma solidity ^0.4.22;\n",
    "\n",
    "/*功能在于：当一个用户部署transaction合约，那他可以在任何时候发送以太币到合约中来（而不是调用函数的命令）\n",
    "之后便开始执行fallback函数\n",
    "*/\n",
    "contract transaction {\n",
    "  event SenderLogger(address);\n",
    "  event ValueLogger(uint);\n",
    "\n",
    "  address private owner;\n",
    "\n",
    "  modifier isOwner {\n",
    "    require(owner == msg.sender);\n",
    "    _;\n",
    "  }\n",
    "\n",
    "  modifier validValue {\n",
    "    assert(msg.value >= 1 ether);\n",
    "    _;\n",
    "  }\n",
    "\n",
    "  constructor() public {\n",
    "    owner = msg.sender;\n",
    "  }\n",
    "\n",
    "  function () public payable isOwner validValue{\n",
    "    emit SenderLogger(msg.sender);\n",
    "    emit ValueLogger(msg.value);\n",
    "  }\n",
    "\n",
    "}"
   ]
  },
  {
   "cell_type": "markdown",
   "metadata": {},
   "source": [
    "# 6. Solidity的合约结构\n",
    "<em> Each contract can contain declarations of <font color=#F57C00>State Variables,Functions,Function Modifiers,Event,Struct Types and Enum Types</font></em>\n",
    "\n",
    "## State Variables(基本变量类型）\n",
    "- bool：布尔型\n",
    "\n",
    "- int/uint：整形与无符号整形\n",
    "\n",
    "其中可以使用如int8,int256去设定变量占用的位\n",
    "\n",
    "- fixed/ufixed：定点数，相当于demical\n",
    "\n",
    "通常使用 $$ fixedM*N (M为此类型占用的bit数，N为此类型的定点） $$\n",
    "- address:地址类型，20字节\n",
    "\n",
    "其中address类型可以被使用与查询余额及发送ether到这个账户的操作。\n",
    "\n",
    "address的方法："
   ]
  },
  {
   "cell_type": "code",
   "execution_count": null,
   "metadata": {},
   "outputs": [],
   "source": [
    "# address.balance方法就是查询这个账户余额\n",
    "# address.transfer(n)方法就是将n个wei发送到address中\n",
    "\n",
    "address x = 0x123;\n",
    "address myAddress this;\n",
    "\n",
    "if (x.balance < 10 && myAddress.balance >= 10) x.transfer(10)\n",
    "\n",
    "# 使用call方法可以向指定的地址发送信息\n",
    "# 但要注意若第一个参数为四个字节，则会默认被认为是函数签名的序号值\n",
    "\n",
    "address.call(\"register\", 256) #这个就表示向address传送了\"register\"+256这样的数据\n",
    "\n",
    "# 可以使用call来控制合约的gas提供量与Ether提供量\n",
    "\n",
    "address.call.gas(10000).value(1 ether)(\"register\",256)\n"
   ]
  },
  {
   "cell_type": "markdown",
   "metadata": {},
   "source": [
    "- Fixed-size byte arrays:定长的比特串\n",
    "\n",
    "使用bytes1,bytes2,...,bytes32来定义。\n",
    "\n",
    "其中的操作可以类比于java中的字符串操作\n",
    "\n",
    "- Dynamically-sized byte array:变长的比特串\n",
    "\n",
    "string\n",
    "\n",
    "bytes\n",
    "\n",
    "- enum：枚举类型"
   ]
  },
  {
   "cell_type": "code",
   "execution_count": null,
   "metadata": {},
   "outputs": [],
   "source": [
    "enum ActionChoices { Goleft,GoRight, GoStraight, SitStill } # 定义\n",
    "\n",
    "function setGoStraight() public { # 使用\n",
    "    choice = ActionChoices.GoStraight;\n",
    "}"
   ]
  },
  {
   "cell_type": "markdown",
   "metadata": {},
   "source": [
    "- Array:数组类型\n",
    "\n",
    "类似于java的数组"
   ]
  },
  {
   "cell_type": "code",
   "execution_count": null,
   "metadata": {},
   "outputs": [],
   "source": [
    "# 两种为Array申请空间的方法\n",
    "\n",
    "contract c {\n",
    "    function f(uint len) public pure {\n",
    "        uint[] memory a = new uint[](7);\n",
    "        bytes memory b = new bytes(len)\n",
    "        # a.length = 7,b.length == len\n",
    "        a[6] = 8;\n",
    "    }\n",
    "}\n",
    "\n",
    "# 其中array的方法有：length,push与pop\n",
    "# push可以用于在数组的最后加上一个元素\n",
    "# pop则弹出数组最后一个元素"
   ]
  },
  {
   "cell_type": "markdown",
   "metadata": {},
   "source": [
    "## Structs:自定义类型\n",
    "<em>首先要介绍Mappings</em>\n",
    "\n",
    "### Mappings(映射):\n",
    "\n",
    "$$ mapping(\\_KeyType => \\_ValueType) $$\n",
    "\n",
    "    其中_KeyType可以是除了Mapping类型之外的各种类型（相当于key)：dynamically sized array,contract, enum或struct\n",
    "    _ValueType可以是任何类型(相当于value)，包括mapping"
   ]
  },
  {
   "cell_type": "code",
   "execution_count": null,
   "metadata": {},
   "outputs": [],
   "source": [
    "#添加字典元素\n",
    "\n",
    "mapping(uint = > uint) public intMapp;\n",
    "mapping(uint => mapping(uint => string)) public mapMapp;\n",
    "\n",
    "function set() {\n",
    "    intMapp[1] = 100;\n",
    "    mapMapp[2][2] = \"aaa\"\n",
    "}"
   ]
  },
  {
   "cell_type": "markdown",
   "metadata": {},
   "source": [
    "### Structs:\n",
    "\n",
    "一个自定义类型，可以作为mapping与arrays的元素存在，也可以自身内部包含mapping与array。\n",
    "\n",
    "<font color=#FF0033>不可以自己包含自己，但可以包含自己类型的Array或mapping类型。</font>\n",
    "\n",
    "### 对于Variables的constant声明：\n",
    "声明表示变量是静态的，不可改变。\n",
    "如："
   ]
  },
  {
   "cell_type": "code",
   "execution_count": null,
   "metadata": {},
   "outputs": [],
   "source": [
    "contract C {\n",
    "    uint constant x =32**22 + 8;\n",
    "    string constant text = \"abc\";\n",
    "    bytes32 constant myHash = keccak256(\"abc\")\n",
    "}"
   ]
  },
  {
   "cell_type": "markdown",
   "metadata": {},
   "source": [
    "## Functions:合约方法\n",
    "\n",
    "<font color=#1E88E5>function ( \\< parameter types \\> ) {public|private|internal|external} [pure|view|payable] [returns (< return types >) ] </font>\n",
    "\n",
    "### Function的修饰符\n",
    "<em>function的修饰符主要包括可见性的修饰及功能的修饰</em>\n",
    "#### 可见性修饰\n",
    "- external:\n",
    "添加这个修饰符之后，在合约contract中如果需要调用这个方法(function)如f()，则需要将表达方式改为this.f()才可以进行调用。\n",
    "- internal:\n",
    "这个修饰符表示这个方法是合约contract内部的方法。可以直接在合约内部进行调用\n",
    "- public:\n",
    "这个修饰符表示方法可以被合约contract内部调用也可以使用messages来访问。\n",
    "- private:\n",
    "这个修饰符表示方法只能在合约内部被调用。\n",
    "\n",
    "     虽然private不能被其它合约访问及修改，但依旧可见，以为它在链上。\n",
    "\n",
    "#### 功能修饰\n",
    "- view:表示这个方法 不改变<font color=#FF0033>账户的状态</font>\n",
    "\n",
    "      什么操作会改变账户的状态？\n",
    "      1. Writing to state variables\n",
    "      2. Emitting events\n",
    "      3. Creating other contracts\n",
    "      4. Using selfdestruct\n",
    "      5. Sending Ether via calls.\n",
    "      6. Calling any function not marked view or pure\n",
    "      7. Using low-level calls\n",
    "      8. Using inline assembly that contains certain opcodes(使用内联的汇编，其中有操作账户状态的操作）\n",
    "- pure:表示这个方法不读也不改变账户的状态   \n",
    "- payable:表示这个方法可以用来接收ether"
   ]
  },
  {
   "cell_type": "markdown",
   "metadata": {},
   "source": [
    "### Fallback Function\n",
    "<em>一个协议只能有一个fallback function,用来处理协议中其它方法无法处理的消息，如收到的Ether(with out data)</em>\n",
    "\n",
    "但若将fallback function设计成接收Plain Ether，需要将该函数加上payable修饰符"
   ]
  },
  {
   "cell_type": "markdown",
   "metadata": {},
   "source": [
    "## Event:事件\n",
    "<em>主要关键词：event   emit</em>\n",
    "\n",
    "在solidity中使用event来定义一个事件，使用emit来触发这个事件。\n",
    "\n",
    "    在Dapp应用中，如果监听了某事件，当事件发生时，会进行回调。"
   ]
  },
  {
   "cell_type": "code",
   "execution_count": null,
   "metadata": {},
   "outputs": [],
   "source": [
    "pragma solidity ^0.4.21;\n",
    "\n",
    "contract ClientReceipt {\n",
    "    event Deposit(\n",
    "        address indexed _from,\n",
    "        bytes32 indexed _id,\n",
    "        uint _value\n",
    "    );\n",
    "\n",
    "    function deposit(bytes32 _id) public payable {\n",
    "        // Events are emitted using `emit`, followed by\n",
    "        // the name of the event and the arguments\n",
    "        // (if any) in parentheses. Any such invocation\n",
    "        // (even deeply nested) can be detected from\n",
    "        // the JavaScript API by filtering for `Deposit`.\n",
    "        emit Deposit(msg.sender, _id, msg.value);\n",
    "    }\n",
    "}"
   ]
  },
  {
   "cell_type": "markdown",
   "metadata": {},
   "source": [
    "<font color=#0097A7>当调用deposit这个方法时，就会触发这个事件。</font>\n",
    "\n",
    "日志与事件在合约内是无法访问的，即使是创建日志的合约\n",
    "\n",
    "要使用事件触发方法，需要与web3.js交互，在web3.js中监听并操作："
   ]
  },
  {
   "cell_type": "code",
   "execution_count": null,
   "metadata": {},
   "outputs": [],
   "source": [
    "var abi = /* abi as generated by the compiler */;\n",
    "var ClientReceipt = web3.eth.contract(abi);\n",
    "var clientReceipt = ClientReceipt.at(\"0x1234...ab67\" /* address */);\n",
    "\n",
    "var event = clientReceipt.Deposit();\n",
    "\n",
    "// watch for changes\n",
    "event.watch(function(error, result){\n",
    "    // result will contain various information\n",
    "    // including the arguments given to the `Deposit`\n",
    "    // call.\n",
    "    if (!error)\n",
    "        console.log(result);\n",
    "});\n",
    "\n",
    "// Or pass a callback to start watching immediately\n",
    "var event = clientReceipt.Deposit(function(error, result) {\n",
    "    if (!error)\n",
    "        console.log(result);\n",
    "});"
   ]
  },
  {
   "cell_type": "markdown",
   "metadata": {},
   "source": [
    "## 继承与多态\n",
    "- is关键词建立继承关系，可以使用父合约中的internal变量与方法\n",
    "- 构造函数constructor\n",
    "- 多继承"
   ]
  },
  {
   "cell_type": "code",
   "execution_count": null,
   "metadata": {},
   "outputs": [],
   "source": [
    "contract X {}\n",
    "contract A is X {}\n",
    "contract C is A,X {}\n",
    "\n",
    "# The reason for this is that C requests X to override A (by specifying A, X in this order), \n",
    "# but A itself requests to override X, which is a contradiction that cannot be resolved."
   ]
  },
  {
   "cell_type": "markdown",
   "metadata": {},
   "source": [
    "- Abstract Contracts:抽象合约\n",
    "- 接口\n",
    "- Libraries进阶了解"
   ]
  },
  {
   "cell_type": "markdown",
   "metadata": {},
   "source": [
    "<em>Library的主要作用就是给某个类型赋予Library中扩展的方法。</em>\n",
    "\n",
    "在LIbrary中定义所要拓展的方法，之后使用using...for...语法进行类型扩展绑定。（详情见前面Library的例子）\n",
    "\n",
    "Library使用的注意事项：\n",
    "1. Library不能定义接收Ether的方法\n",
    "2. using A for *表示Library A中的方法拓展给了所有类型。"
   ]
  },
  {
   "cell_type": "markdown",
   "metadata": {},
   "source": [
    "## Contract操作\n",
    "### 使用new关键词,像创建类一样创建Contract实例\n",
    "\n",
    "<em>在一个contract对象中可以使用<font color=#FF0033>new关键字</font>创建一个合约的实例。</em>\n",
    "\n",
    "用这种方式可以实现策略模式(类似java)"
   ]
  },
  {
   "cell_type": "code",
   "execution_count": null,
   "metadata": {},
   "outputs": [],
   "source": [
    "pragma solidity >0.4.24;\n",
    "\n",
    "contract D {\n",
    "    uint x;\n",
    "    constructor(uint a) public payable {\n",
    "        x = a;\n",
    "    }\n",
    "}\n",
    "\n",
    "contract C {\n",
    "    D d = new D(4); # will be executed as part of C's constructor\n",
    "\n",
    "    function createD(uint arg) public {\n",
    "        D newD = new D(arg);\n",
    "    }\n",
    "\n",
    "    function createAndEndowD(uint arg, uint amount) public payable {\n",
    "        # Send ether along with the creation\n",
    "        D newD = (new D).value(amount)(arg);\n",
    "    }\n",
    "}"
   ]
  },
  {
   "cell_type": "markdown",
   "metadata": {},
   "source": [
    "### Function calls:在合约中/间调用方法\n",
    "#### Internal Function Calls：内部调用\n",
    "直接在方法中调用方法即可\n",
    "#### External Function Calls：外部调用\n",
    "先要在本contract中定义一个要调用方法所在contract的对象，之后再调用外部contract的方法。\n",
    "\n",
    "<em><font color=#FF0033>要注意contract的限定词</font></em>"
   ]
  },
  {
   "cell_type": "code",
   "execution_count": null,
   "metadata": {},
   "outputs": [],
   "source": [
    "pragma solidity ^0.4.0;\n",
    "\n",
    "contract InfoFeed {\n",
    "    function info() public payable returns (uint ret) { return 42; }\n",
    "}\n",
    "\n",
    "contract Consumer {\n",
    "    InfoFeed feed;\n",
    "    function setFeed(address addr) public { feed = InfoFeed(addr); }\n",
    "    function callFeed() public { feed.info.value(10).gas(800)(); }\n",
    "}"
   ]
  },
  {
   "cell_type": "markdown",
   "metadata": {},
   "source": [
    "## Solidity中的特有元素及系统设定全局变量\n",
    "### Ether Unit\n",
    "### Time Unit\n",
    "### 特殊变量及可以调用的方法：\n",
    "#### 1. 区块及事务元素\n",
    "#### 2. ABI编码方法\n",
    "#### 3. 错误处理方法\n",
    "#### 4. 数学加密方法\n",
    "#### 5. 关于地址的方法\n",
    "#### 6. 合约相关的"
   ]
  }
 ],
 "metadata": {
  "kernelspec": {
   "display_name": "Python 2",
   "language": "python",
   "name": "python2"
  },
  "language_info": {
   "codemirror_mode": {
    "name": "ipython",
    "version": 2
   },
   "file_extension": ".py",
   "mimetype": "text/x-python",
   "name": "python",
   "nbconvert_exporter": "python",
   "pygments_lexer": "ipython2",
   "version": "2.7.10"
  }
 },
 "nbformat": 4,
 "nbformat_minor": 2
}
