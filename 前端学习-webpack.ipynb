{
 "cells": [
  {
   "cell_type": "markdown",
   "metadata": {},
   "source": [
    "# Webpack详解\n",
    "## 对脚本和样式的处理\n",
    "### 1. JS用什么loader加载\n",
    "**可以使用原生的JavaScript，也可以使用babel.**\n",
    "\n",
    "因为适配性的问题，所以我们选择原生的JavaScript来进行。\n",
    "### 2. 多entry\n",
    "**要使用多个入口文件，可以在webpack.config.js中进行设置。**"
   ]
  },
  {
   "cell_type": "code",
   "execution_count": null,
   "metadata": {},
   "outputs": [],
   "source": [
    "var config = {\n",
    "    entry : {\n",
    "        'index' : ['./src/pages/index/index.js'],\n",
    "        'login' : ['./src/pages/login/index.js'],\n",
    "    },\n",
    "    output: {\n",
    "        path: './dist',\n",
    "        filename: 'js/[name].js'\n",
    "    }\n",
    "};\n",
    "\n",
    "module.exports = config;\n",
    "\n",
    "# entry表示多个入口文件，可以使用字典类型来设置\n",
    "\n",
    "# output中的filename可以来设置路径及按名称来生成js文件"
   ]
  },
  {
   "cell_type": "markdown",
   "metadata": {},
   "source": [
    "### 3. Jquery引入方法\n",
    "\n",
    "分为全局的引入方法以及变量的引入方法。\n",
    "\n",
    "- 基于变量的引入方法：\n",
    "先使用npm安装jquery,之后在相应的模块中（即js文件中)require一个jquery对象进行引入。\n",
    "\n",
    "- 全局引入的方法\n",
    "    - 在html中直接src引入script脚本，之后就可以在各个模块中使用jquery了\n",
    "    - 有时用户没有在全局安装jquery,想要方便的在webpack工程中引入jquery的依赖，就可以在webpack.config.js中加入一个插件选项"
   ]
  },
  {
   "cell_type": "code",
   "execution_count": null,
   "metadata": {},
   "outputs": [],
   "source": [
    "externals : {\n",
    "        'jquery': 'window.jQuery'\n",
    "    }"
   ]
  },
  {
   "cell_type": "markdown",
   "metadata": {},
   "source": [
    "### 4. 想提取公共模块（工具模块）\n",
    "> 使用CommonChunkPlugins\n",
    "\n",
    "在webpack.config.js中，加入plugin选项"
   ]
  },
  {
   "cell_type": "code",
   "execution_count": null,
   "metadata": {},
   "outputs": [],
   "source": [
    "plugins : [\n",
    "        new webpack.optimize.CommonsChunkPlugin({\n",
    "            name : 'commons',\n",
    "            filename:'js/base.js'\n",
    "        })\n",
    "    ]\n",
    "    \n",
    "# 这段代码表示将模块中共有的require到的元素提取出来打包到js/base.js文件中。"
   ]
  },
  {
   "cell_type": "markdown",
   "metadata": {},
   "source": [
    "> 总结来说CommonChunkPlugin的作用是将文件中共有的模块自动添加到filename指定的文件中，并且如果在config的entry中有设置Commonchunk选项中name的同名entry（本例中为'commons')则可以向那个文件中写入公共模块（就是每个模块加载前都会使用的模块）有效优化加载速度."
   ]
  },
  {
   "cell_type": "code",
   "execution_count": null,
   "metadata": {},
   "outputs": [],
   "source": [
    "# webpack.config.js\n",
    "\n",
    "var webpack = require('webpack')\n",
    "var config = {\n",
    "    entry : {\n",
    "        'common' : ['./src/pages/common/index.js'],\n",
    "        'index' : ['./src/pages/index/index.js'],\n",
    "        'login' : ['./src/pages/login/index.js'],\n",
    "    },\n",
    "    output: {\n",
    "        path: './dist',\n",
    "        filename: 'js/[name].js'\n",
    "    },\n",
    "    externals : {\n",
    "        'jquery': 'window.jQuery'\n",
    "    },\n",
    "    plugins : [\n",
    "        new webpack.optimize.CommonsChunkPlugin({\n",
    "            name : 'common',\n",
    "            filename:'js/base.js'\n",
    "        })\n",
    "    ]\n",
    "};\n",
    "\n",
    "module.exports = config;\n",
    "\n",
    "# 可以在common指定的entry文件中设置公用的模块，在加载模块时会自动先加载\n",
    "# 此插件也会探测公用的模块加入js/base.js"
   ]
  },
  {
   "cell_type": "markdown",
   "metadata": {},
   "source": [
    "### 5. 样式(CSS)使用怎样的loader\n",
    "> 主要使用的loader主要是**style-loader**与**css-loader**\n",
    "\n",
    "首先要在npm中安装这两个loader:npm install css-loader style-loader --save-dev\n",
    "\n",
    "之后要在webpack.config.js中定义要使用的loader:"
   ]
  },
  {
   "cell_type": "code",
   "execution_count": null,
   "metadata": {},
   "outputs": [],
   "source": [
    "module : {\n",
    "        loaders: [\n",
    "            { test: /\\.css$/, loader: \"style-loader!css-loader\" }\n",
    "        ]\n",
    "    },\n",
    "    \n",
    "# 声明这个模块说明当遇到.css文件时，就使用配置的loader\n",
    "# loader优先级时从右向左，即css-loader之后style-loader"
   ]
  },
  {
   "cell_type": "markdown",
   "metadata": {},
   "source": [
    "之后就可以在模块js文件中require css文件来为文件导入css"
   ]
  },
  {
   "cell_type": "markdown",
   "metadata": {},
   "source": [
    "### 6. webpack打包的css怎么独立成单独的文件\n",
    "> npm install extract-text-webpack-plugin --save-dev\n",
    "\n",
    "这个插件将css打包到制定的文件中，加快css的加载速度"
   ]
  },
  {
   "cell_type": "code",
   "execution_count": null,
   "metadata": {},
   "outputs": [],
   "source": [
    "# 使用规则有三步\n",
    "\n",
    "var webpack = require('webpack');\n",
    "# 1. 先声明插件的变量\n",
    "var ExtractTextPlugin = require(\"extract-text-webpack-plugin\");\n",
    "\n",
    "var config = {\n",
    "    entry : {\n",
    "        'common' : ['./src/pages/common/index.js'],\n",
    "        'index' : ['./src/pages/index/index.js'],\n",
    "        'login' : ['./src/pages/login/index.js'],\n",
    "    },\n",
    "    output: {\n",
    "        path: './dist',\n",
    "        filename: 'js/[name].js'\n",
    "    },\n",
    "    externals : {\n",
    "        'jquery': 'window.jQuery'\n",
    "    },\n",
    "    module : {\n",
    "        loaders: [\n",
    "            # 3.在loader中设置插件\n",
    "            { test: /\\.css$/, loader: ExtractTextPlugin.extract(\"style-loader\",\"css-loader\") }\n",
    "        ]\n",
    "    },\n",
    "    plugins : [\n",
    "        new webpack.optimize.CommonsChunkPlugin({\n",
    "            name : 'common',\n",
    "            filename:'js/base.js'\n",
    "        }),\n",
    "        # 2. 导入插件，其中要设置打包css的路径及命名方式。\n",
    "        new ExtractTextPlugin(\"css/[name].css\")\n",
    "    ]\n",
    "};\n",
    "\n",
    "module.exports = config;"
   ]
  },
  {
   "cell_type": "markdown",
   "metadata": {},
   "source": [
    "### 7. 如何快速生成html文件\n",
    "生成加载好js模块的html文件，可以用于生成模板以及最终网页的交付。\n",
    "\n",
    "- 首先安装HtmlWebpackPlugin\n",
    "> npm install --save-dev html-webpack-plugin\n",
    "- 之后生成对象HtmlWebpackPlugin\n",
    "> var HtmlWebpackPlugin = require('html-webpack-plugin');\n",
    "- 最后在plugin中进行配置，所使用的模板以及最终生成到哪个目标文件中\n",
    "- 分块模板的实现，有的时候需要制作html中某块的模板，可以使用html-loader来实现。\n",
    "> 首先要全局安装html-loader\n",
    ",之后使用模板时<%= require('html-loader!./layout/html-head.html') %>就可以将模板载入"
   ]
  },
  {
   "cell_type": "code",
   "execution_count": null,
   "metadata": {},
   "outputs": [],
   "source": [
    "# webpack.config.js\n",
    "\n",
    "\n",
    "var webpack = require('webpack');\n",
    "var ExtractTextPlugin = require(\"extract-text-webpack-plugin\");\n",
    "var HtmlWebpackPlugin = require('html-webpack-plugin');\n",
    "\n",
    "//获取htmlWebpackplugin参数\n",
    "var getHtmlConfig = function(name){\n",
    "    return {\n",
    "        template : './src/view/' + name + '.html',\n",
    "        filename : 'view/' + name + '.html',\n",
    "        inject : true,\n",
    "        hash : true,\n",
    "        chunks : ['common',name]\n",
    "    }\n",
    "}\n",
    "\n",
    "var config = {\n",
    "    entry : {\n",
    "        'common' : ['./src/pages/common/index.js'],\n",
    "        'index' : ['./src/pages/index/index.js'],\n",
    "        'login' : ['./src/pages/login/index.js'],\n",
    "    },\n",
    "    output: {\n",
    "        path: './dist',\n",
    "        filename: 'js/[name].js'\n",
    "    },\n",
    "    externals : {\n",
    "        'jquery': 'window.jQuery'\n",
    "    },\n",
    "    module : {\n",
    "        loaders: [\n",
    "            { test: /\\.css$/, loader: ExtractTextPlugin.extract(\"style-loader\",\"css-loader\") }\n",
    "        ]\n",
    "    },\n",
    "    plugins : [\n",
    "        //独立通用模块\n",
    "        new webpack.optimize.CommonsChunkPlugin({\n",
    "            name : 'common',\n",
    "            filename:'js/base.js'\n",
    "        }),\n",
    "        // 把css单独打包到文件中\n",
    "        new ExtractTextPlugin(\"css/[name].css\"),\n",
    "\n",
    "        // html模板的处理\n",
    "        new HtmlWebpackPlugin(getHtmlConfig('index')),\n",
    "        new HtmlWebpackPlugin(getHtmlConfig('login'))\n",
    "    ]\n",
    "};\n",
    "\n",
    "module.exports = config;"
   ]
  },
  {
   "cell_type": "markdown",
   "metadata": {},
   "source": [
    "### 8. Webpack-dev-server:用于实时预览开发过程\n",
    "- 首先要全局与包内安装webpack-dev-server\n",
    ">npm install webpack-dev-server@1.16.5 <br>sudo npm install webpack-dev-server@1.16.5 -g\n",
    "- 在entry的common模块中加入一个client\n",
    "> 'common' : ['./src/page/common/index.js','webpack-dev-server/client?http://localhost:8088/']<br>\n",
    "之后就可以实现自动打包了\n",
    "- 实现实时预览：设置output中的publicPath(即访问url的根目录)\n",
    "> 加入 PublicPath : '/dist',<br>\n",
    "之后访问localhost:8088/就是访问/dist下的文件\n",
    "\n",
    "- 开启服务：\n",
    "> webpack-dev-server --inline --port 8088 <br>\n",
    "运行这个命令就可以实时预览\n",
    "\n",
    "- 分离开发环境与打包上线环境（在正式打包时忽略预览功能）\n",
    "> 通过设置环境变量：var WEBPACK_ENV = process.env.WEBPACK_ENV || 'dev'; <br>\n",
    "启动方式：WEBPACK_ENV=dev webpack-dev-server --inline --port 8088\n",
    "\n",
    "为了区分线上模式与开发模式，我们设置一个判断："
   ]
  },
  {
   "cell_type": "code",
   "execution_count": null,
   "metadata": {},
   "outputs": [],
   "source": [
    "if('dev' === WEBPACK_ENV){\n",
    "    config.entry.common.push('webpack-dev-server/client?http://localhost:8088/');"
   ]
  },
  {
   "cell_type": "markdown",
   "metadata": {},
   "source": [
    "这样当WEBPACK_ENV不是dev，即开发模式时，就不会在common中加载webpack-dev-server了"
   ]
  }
 ],
 "metadata": {
  "kernelspec": {
   "display_name": "Python 3",
   "language": "python",
   "name": "python3"
  },
  "language_info": {
   "codemirror_mode": {
    "name": "ipython",
    "version": 3
   },
   "file_extension": ".py",
   "mimetype": "text/x-python",
   "name": "python",
   "nbconvert_exporter": "python",
   "pygments_lexer": "ipython3",
   "version": "3.6.5"
  }
 },
 "nbformat": 4,
 "nbformat_minor": 2
}
