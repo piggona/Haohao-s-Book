{
 "cells": [
  {
   "cell_type": "markdown",
   "metadata": {},
   "source": [
    "# Webpack详解\n",
    "## 对脚本和样式的处理\n",
    "### JS用什么loader加载\n",
    "### 多entry\n",
    "### 打包文件分文件夹存放目标文件\n",
    "### Jquery引入方法\n",
    "### 想提取公共模块（工具模块）\n",
    "### 样式使用怎样的loader\n",
    "### webpack打包的css怎么独立成单独的文件"
   ]
  }
 ],
 "metadata": {
  "kernelspec": {
   "display_name": "Python 3",
   "language": "python",
   "name": "python3"
  },
  "language_info": {
   "codemirror_mode": {
    "name": "ipython",
    "version": 3
   },
   "file_extension": ".py",
   "mimetype": "text/x-python",
   "name": "python",
   "nbconvert_exporter": "python",
   "pygments_lexer": "ipython3",
   "version": "3.6.5"
  }
 },
 "nbformat": 4,
 "nbformat_minor": 2
}
